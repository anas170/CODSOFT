{
  "nbformat": 4,
  "nbformat_minor": 0,
  "metadata": {
    "colab": {
      "provenance": [],
      "authorship_tag": "ABX9TyMThwagDJZhcyJTdTXckz8u",
      "include_colab_link": true
    },
    "kernelspec": {
      "name": "python3",
      "display_name": "Python 3"
    },
    "language_info": {
      "name": "python"
    }
  },
  "cells": [
    {
      "cell_type": "markdown",
      "metadata": {
        "id": "view-in-github",
        "colab_type": "text"
      },
      "source": [
        "<a href=\"https://colab.research.google.com/github/anas170/CODSOFT/blob/main/Chatbot_Codsoft.ipynb\" target=\"_parent\"><img src=\"https://colab.research.google.com/assets/colab-badge.svg\" alt=\"Open In Colab\"/></a>"
      ]
    },
    {
      "cell_type": "code",
      "execution_count": 1,
      "metadata": {
        "colab": {
          "base_uri": "https://localhost:8080/"
        },
        "id": "g3tCjrCHoXLS",
        "outputId": "eb4d8c3f-4659-4521-9fb7-70ff48b30762"
      },
      "outputs": [
        {
          "output_type": "stream",
          "name": "stdout",
          "text": [
            "Chatbot: Hi! How can I assist you today? (type 'bye' to exit)\n",
            "You: hello\n",
            "Chatbot: Hello!\n",
            "You: bye\n",
            "Chatbot: Goodbye!\n"
          ]
        }
      ],
      "source": [
        "import random\n",
        "responses = {\n",
        "    \"hello\": [\"Hello!\", \"Hi there!\", \"Hey!\", \"Greetings!\"],\n",
        "    \"how are you\": [\"I'm just a computer program, but I'm doing well. How can I help you?\", \"I'm good, thanks. What can I assist you with?\"],\n",
        "    \"bye\": [\"Goodbye!\", \"See you later!\", \"Have a great day!\"],\n",
        "    \"name\": [\"I don't have a name since I'm just a chatbot.\", \"You can call me ChatGPT.\", \"I go by the name ChatBot.\"],\n",
        "    \"age\": [\"I don't have an age. I'm a machine learning model.\", \"I'm ageless, just like the internet.\"],\n",
        "    \"how to learn programming\": [\"To learn programming, start with a beginner-friendly language like Python. There are many online tutorials and courses available.\", \"Learning programming is a great idea! You can begin by studying the basics of a programming language.\"],\n",
        "    \"what is your purpose\": [\"My purpose is to assist and provide information to the best of my abilities.\", \"I'm here to answer your questions and have a conversation with you.\"],\n",
        "    \"tell me a joke\": [\"Sure! Here's one: Why don't scientists trust atoms? Because they make up everything!\", \"Here's a joke for you: Why did the computer catch a cold? Because it had a bad case of the Windows!\"],\n",
        "    \"favorite color\": [\"I don't have a favorite color. I'm more into lines of code than colors.\", \"I guess my favorite color would be binary: 0 and 1.\"],\n",
        "    \"tell me a fun fact\": [\"Sure, here's a fun fact: Honey never spoils. Archaeologists have found pots of honey in ancient Egyptian tombs that are over 3,000 years old and still perfectly edible!\", \"Did you know that a group of flamingos is called a 'flamboyance'? Now, that's a fancy word for a flock of birds!\"],\n",
        "    \"programming languages\": [\"There are many programming languages, like Python, Java, C++, and JavaScript. Each has its own strengths and use cases.\", \"Programming languages are tools used to instruct computers. Some popular ones include Python, Java, and C#.\"],\n",
        "    \"favorite book\": [\"I don't read books, but I've heard 'Dune' by Frank Herbert is a classic in science fiction.\", \"I don't have personal preferences, but 'To Kill a Mockingbird' by Harper Lee is a widely acclaimed book.\"],\n",
        "    \"movie recommendation\": [\"Sure, I can recommend a movie. How about 'The Shawshank Redemption'? It's a classic!\", \"I recommend 'Inception' if you enjoy mind-bending science fiction.\"],\n",
        "    \"how does AI work\": [\"Artificial intelligence (AI) involves creating computer systems that can perform tasks that typically require human intelligence, like learning, reasoning, problem-solving, and understanding natural language.\"],\n",
        "    \"favorite food\": [\"I don't eat, but if I had to choose, I'd go with 'data bits' for a digital snack!\", \"I'm not capable of eating, but people seem to enjoy pizza and sushi.\"],\n",
        "    \"tell me a riddle\": [\"Here's a riddle: I speak without a mouth and hear without ears. I have no body, but I come alive with the wind. What am I? (Answer: An echo)\", \"Try this riddle: I am taken from a mine, and shut up in a wooden case, from which I am never released, and yet I am used by almost every person. What am I? (Answer: Pencil lead)\"],\n",
        "    \"favorite programming language\": [\"I don't have favorites, but many developers like Python for its readability and versatility.\", \"I don't play favorites, but Python is often appreciated for its simplicity.\"],\n",
        "    \"what is the meaning of life\": [\"The meaning of life is a philosophical question with no single answer. It varies from person to person and can involve personal values, goals, and experiences.\"],\n",
        "    \"tell me a quote\": [\"Here's a quote: 'The only limit to our realization of tomorrow will be our doubts of today.' - Franklin D. Roosevelt\", \"How about this one: 'In the middle of every difficulty lies opportunity.' - Albert Einstein\"],\n",
        "    \"what's the weather like\": [\"I'm sorry, I can't provide real-time weather information. You can check a weather website or app for the latest updates.\"],\n",
        "    \"who is your creator\": [\"I was created by Muhammad Anas, a research student who specializes in artificial intelligence.\"],\n",
        "    \"do you dream\": [\"No, I don't dream. I'm a machine learning model, and I don't have consciousness or experiences.\"],\n",
        "    \"tell me a science fact\": [\"Sure, here's a science fact: Honeybees can recognize human faces. They can also see in ultraviolet and polarized light!\", \"Did you know that a day on Venus (its rotation period) is longer than its year? It rotates very slowly in the opposite direction to most planets.\"],\n",
        "    \"can you sing a song\": [\"I can't sing, but I can provide you with song lyrics or discuss music if you'd like.\"],\n",
        "    \"favorite movie\": [\"I don't have preferences, but 'The Matrix' is a popular choice among science fiction fans.\", \"I don't watch movies, but 'Pulp Fiction' is known for its unique storytelling.\"],\n",
        "    \"tell me a history fact\": [\"Sure, here's a history fact: The Great Wall of China is over 13,000 miles long and took more than 2,000 years to build!\", \"Here's a historical fact: The ancient Egyptians used to worship cats and even considered them sacred.\"],\n",
        "    \"default\": [\"I'm sorry, I don't understand. Can you please rephrase your question?\", \"I'm not sure I follow. Could you please provide more details?\"]\n",
        "}\n",
        "def get_response(user_input):\n",
        "    # Converting user input to lowercase for case-insensitive matching\n",
        "    user_input = user_input.lower()\n",
        "    matching_responses = []\n",
        "\n",
        "    for key in responses:\n",
        "        if any(word in user_input for word in key.split()):\n",
        "            matching_responses.extend(responses[key])\n",
        "    if matching_responses:\n",
        "        return random.choice(matching_responses)\n",
        "    return random.choice(responses[\"default\"])\n",
        "\n",
        "print(\"Chatbot: Hi! How can I assist you today? (type 'bye' to exit)\")\n",
        "\n",
        "while True:\n",
        "    user_input = input(\"You: \")\n",
        "    if user_input.lower() == 'bye':\n",
        "        print(\"Chatbot: Goodbye!\")\n",
        "        break\n",
        "    else:\n",
        "        response = get_response(user_input)\n",
        "        print(\"Chatbot:\", response)\n"
      ]
    },
    {
      "cell_type": "markdown",
      "source": [
        "Certainly, I'd be happy to explain the code you provided:\n",
        "\n",
        "1. The code defines a simple chatbot that responds to user input based on predefined rules. These rules are stored in a dictionary called `responses`, where each key is a specific question or query, and the associated value is a list of possible responses to that question.\n",
        "\n",
        "2. The chatbot takes user input, converts it to lowercase for case-insensitive matching, and then checks if the input partially matches any of the predefined questions. It does this by splitting the input and predefined questions into words and looking for partial matches.\n",
        "\n",
        "3. If partial matches are found, the chatbot selects a random response from the list of possible responses associated with the matched question.\n",
        "\n",
        "4. If no partial match is found, the chatbot returns a default response, which is also randomly selected from a list of default responses.\n",
        "\n",
        "5. The chatbot operates in a loop, continually asking for user input and providing responses until the user enters \"bye,\" at which point it says \"Goodbye!\" and the loop terminates.\n",
        "\n",
        "6. The chatbot is designed to handle a variety of questions and provide different responses based on the user's queries.\n",
        "\n",
        "This code allows you to create a chatbot with predefined responses to common questions and queries, making it suitable for basic conversational interactions. You can easily extend the `responses` dictionary to include more questions and responses to suit your specific chatbot's purpose."
      ],
      "metadata": {
        "id": "H1cQE9LOo1BL"
      }
    }
  ]
}