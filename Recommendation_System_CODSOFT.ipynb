{
  "nbformat": 4,
  "nbformat_minor": 0,
  "metadata": {
    "colab": {
      "provenance": [],
      "authorship_tag": "ABX9TyMzBig19EJ4AJqr5CsVQaMI",
      "include_colab_link": true
    },
    "kernelspec": {
      "name": "python3",
      "display_name": "Python 3"
    },
    "language_info": {
      "name": "python"
    }
  },
  "cells": [
    {
      "cell_type": "markdown",
      "metadata": {
        "id": "view-in-github",
        "colab_type": "text"
      },
      "source": [
        "<a href=\"https://colab.research.google.com/github/anas170/CODSOFT/blob/main/Recommendation_System_CODSOFT.ipynb\" target=\"_parent\"><img src=\"https://colab.research.google.com/assets/colab-badge.svg\" alt=\"Open In Colab\"/></a>"
      ]
    },
    {
      "cell_type": "code",
      "execution_count": 1,
      "metadata": {
        "colab": {
          "base_uri": "https://localhost:8080/"
        },
        "id": "vVDhYx2psSGW",
        "outputId": "05e234f9-afc3-49e7-e7ff-46200a81807b"
      },
      "outputs": [
        {
          "output_type": "stream",
          "name": "stdout",
          "text": [
            "Enter your movie preferences (e.g., Action Drama): comedy\n",
            "No matching movies found for your preferences.\n"
          ]
        }
      ],
      "source": [
        "import pandas as pd\n",
        "\n",
        "# Sample movie data\n",
        "data = {\n",
        "    'Title': ['Inception', 'The Shawshank Redemption', 'The Dark Knight', 'Pulp Fiction', 'Forrest Gump',\n",
        "              'Fight Club', 'The Matrix', 'The Lord of the Rings: The Fellowship of the Ring', 'The Godfather', 'Avatar'],\n",
        "    'Genre': ['Science Fiction, Action', 'Drama', 'Action, Crime', 'Crime, Drama', 'Drama, Romance',\n",
        "              'Drama', 'Science Fiction, Action', 'Adventure, Fantasy', 'Crime, Drama', 'Action, Adventure'],\n",
        "    'Director': ['Christopher Nolan', 'Frank Darabont', 'Christopher Nolan', 'Quentin Tarantino', 'Robert Zemeckis',\n",
        "                 'David Fincher', 'Lana Wachowski, Lilly Wachowski', 'Peter Jackson', 'Francis Ford Coppola', 'James Cameron'],\n",
        "    'Actors': ['Leonardo DiCaprio, Joseph Gordon-Levitt', 'Tim Robbins, Morgan Freeman', 'Christian Bale, Heath Ledger',\n",
        "               'John Travolta, Uma Thurman', 'Tom Hanks, Robin Wright', 'Edward Norton, Brad Pitt',\n",
        "               'Keanu Reeves, Laurence Fishburne', 'Elijah Wood, Ian McKellen', 'Marlon Brando, Al Pacino', 'Sam Worthington, Zoe Saldana'],\n",
        "}\n",
        "\n",
        "df = pd.DataFrame(data)\n",
        "\n",
        "# Function to recommend movies based on user preferences\n",
        "def get_movie_recommendations(preferences, data_frame):\n",
        "    recommendations = []\n",
        "\n",
        "    for index, row in data_frame.iterrows():\n",
        "        match = False\n",
        "        for preference in preferences:\n",
        "            if preference.lower() in row['Genre'].lower() or preference.lower() in row['Director'].lower() or preference.lower() in row['Actors'].lower():\n",
        "                match = True\n",
        "                break\n",
        "        if match:\n",
        "            recommendations.append(row['Title'])\n",
        "\n",
        "    return recommendations\n",
        "\n",
        "# Ask the user about their movie preferences\n",
        "user_preferences = input(\"Enter your movie preferences (e.g., Action Drama): \").split()\n",
        "\n",
        "# Get recommendations based on user preferences\n",
        "recommended_movies = get_movie_recommendations(user_preferences, df)\n",
        "\n",
        "if recommended_movies:\n",
        "    print(f\"Recommended movies for your preferences: {recommended_movies}\")\n",
        "else:\n",
        "    print(\"No matching movies found for your preferences.\")\n"
      ]
    }
  ]
}